{
 "cells": [
  {
   "cell_type": "code",
   "execution_count": null,
   "id": "737e6ad9-c22a-48a9-80e3-114372b2e7ef",
   "metadata": {},
   "outputs": [],
   "source": []
  }
 ],
 "metadata": {
  "kernelspec": {
   "display_name": "",
   "name": ""
  },
  "language_info": {
   "name": ""
  }
 },
 "nbformat": 4,
 "nbformat_minor": 5
}
